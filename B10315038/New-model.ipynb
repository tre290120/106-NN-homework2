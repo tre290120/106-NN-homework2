{
 "cells": [
  {
   "cell_type": "code",
   "execution_count": null,
   "metadata": {
    "collapsed": false
   },
   "outputs": [],
   "source": [
    "import os\n",
    "import math\n",
    "os.environ[\"CUDA_VISIBLE_DEVICES\"] = \"1\"\n",
    "import random\n",
    "import numpy as np\n",
    "import pandas as pd\n",
    "from keras import optimizers\n",
    "import keras.backend as K\n",
    "import tensorflow as tf\n",
    "from keras import regularizers\n",
    "from keras.models import Sequential, Model\n",
    "from keras.models import load_model\n",
    "from keras.layers import Dense, Dropout, Input, merge, Reshape, Lambda, LSTM\n"
   ]
  },
  {
   "cell_type": "code",
   "execution_count": null,
   "metadata": {
    "collapsed": true
   },
   "outputs": [],
   "source": [
    "\n",
    "path = \"test.xlsx\"\n",
    "path2 = \"test2.xlsx\"\n",
    "all_df = pd.read_excel(path)\n",
    "all_meo = pd.read_excel(path2)\n",
    "output_featue = 24*2*1\n",
    "day = 10\n",
    "x_need = ['PM2.5','PM10','O3','temperature','humidity','wind_direction','wind_speed']\n",
    "label_need = ['PM2.5', 'PM10', 'O3']\n",
    "\n",
    "all_df_x_train = pd.DataFrame(columns=x_need)\n",
    "all_df_y_train = pd.DataFrame(columns=label_need)"
   ]
  },
  {
   "cell_type": "code",
   "execution_count": null,
   "metadata": {
    "collapsed": false,
    "scrolled": false
   },
   "outputs": [],
   "source": [
    "for start in range(1,1+day):\n",
    "    station_id = 'dongsi_aq'\n",
    "    data_by_station_id = all_df[all_df['station_id'] == station_id]\n",
    "    station_id_PM25 = data_by_station_id[now_predict].tolist()\n",
    "\n",
    "    input_data.extend(station_id_PM25)\n"
   ]
  },
  {
   "cell_type": "code",
   "execution_count": null,
   "metadata": {
    "collapsed": false
   },
   "outputs": [],
   "source": [
    "feature_length = len(all_df_x_train)\n",
    "\n",
    "for start in range(1+day,3+day):\n",
    "    station_id = 'dongsi_aq'\n",
    "    data_by_station_id = all_df[all_df['station_id'] == station_id]\n",
    "    station_id_PM25 = data_by_station_id[now_predict].tolist()\n",
    " \n",
    "    Label.extend(station_id_PM25)\n"
   ]
  },
  {
   "cell_type": "code",
   "execution_count": null,
   "metadata": {
    "collapsed": false
   },
   "outputs": [],
   "source": [
    "input_a = Input(shape=(feature_length, ))\n",
    "hidden_layer_1 = Dense(24*2,activation='relu',kernel_regularizer=regularizers.l2(0.01),activity_regularizer=regularizers.l1(0.01))\n",
    "hidden_layer_2 = Dense(24,activation='relu',kernel_regularizer=regularizers.l2(0.01),activity_regularizer=regularizers.l1(0.01))\n",
    "hidden_layer_3 = Dense(1048,activation='tanh',kernel_regularizer=regularizers.l2(0.01),activity_regularizer=regularizers.l1(0.01))\n",
    "hidden_layer_4 = Dense(1048,activation='relu',kernel_regularizer=regularizers.l2(0.01),activity_regularizer=regularizers.l1(0.01))\n",
    "hidden_layer_5 = Dense(output_featue)\n",
    "hidden_layer_1 = Dense(204,kernel_regularizer=regularizers.l2(0.01),activity_regularizer=regularizers.l1(0.01))\n",
    "hidden_layer_2 = Dense(512, activation='relu',kernel_regularizer=regularizers.l2(0.01),activity_regularizer=regularizers.l1(0.01))\n",
    "Dropout_1 = Dropout(0.5, name='dropout_1')\n",
    "y1 = hidden_layer_1(input_a)\n",
    "y2 = hidden_layer_2(y1)\n",
    "y3 = hidden_layer_3(y2)\n",
    "y4 = hidden_layer_4(y3)\n",
    "y5 = hidden_layer_5(y2)\n",
    "\n",
    "model = Model([input_a], [y5])\n",
    "sgd = optimizers.SGD(lr=0.1, decay=1e-6, momentum=0.9, nesterov=True)\n",
    "\n",
    "model.compile(loss='mse', optimizer='rmsprop')\n",
    "print (model.summary())\n",
    "model.fit(np.array(all_df_x_train).reshape(1,feature_length), np.array(all_df_y_train).reshape(1,output_featue), epochs= 9000, verbose=1)"
   ]
  },
  {
   "cell_type": "code",
   "execution_count": null,
   "metadata": {
    "collapsed": true
   },
   "outputs": [],
   "source": []
  }
 ],
 "metadata": {
  "kernelspec": {
   "display_name": "Python [Root]",
   "language": "python",
   "name": "Python [Root]"
  },
  "language_info": {
   "codemirror_mode": {
    "name": "ipython",
    "version": 3
   },
   "file_extension": ".py",
   "mimetype": "text/x-python",
   "name": "python",
   "nbconvert_exporter": "python",
   "pygments_lexer": "ipython3",
   "version": "3.5.1"
  }
 },
 "nbformat": 4,
 "nbformat_minor": 0
}
